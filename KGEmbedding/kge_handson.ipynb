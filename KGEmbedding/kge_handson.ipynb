{
 "cells": [
  {
   "cell_type": "markdown",
   "source": [
    "# Empowering Healthcare with Symbolic Learning and Knowledge Graph Embeddings"
   ],
   "metadata": {
    "collapsed": false
   },
   "id": "a9a211eadeb2fafb"
  },
  {
   "cell_type": "markdown",
   "source": [
    "### Overview: Welcome!!! Today we will play with Symbolic learning and KGE models like TransH or RotatE over the Lung Cancer KG. In Lung Cancer KG, a patient is described by medical characteristics such as smoking habit, cancer stage, mutation type, age, gender and occurence of relapse etc. Here, the task is to predict a patient with recommended drug or relapse condition."
   ],
   "metadata": {
    "collapsed": false
   },
   "id": "d2180111817a5c20"
  },
  {
   "cell_type": "markdown",
   "source": [
    "#### Install prerequistes and import necessary modules"
   ],
   "metadata": {
    "collapsed": false
   },
   "id": "4617df6d8d1276f8"
  },
  {
   "cell_type": "code",
   "outputs": [],
   "source": [
    "!git clone https://github.com/SDM-TIB/SymbolicLearning_KGE.git"
   ],
   "metadata": {
    "collapsed": false
   },
   "id": "1343d54869640ae0"
  },
  {
   "cell_type": "code",
   "outputs": [],
   "source": [
    "%%capture\n",
    "!pip install -r /content/SymbolicLearning_KGE/requirements.txt"
   ],
   "metadata": {
    "collapsed": false
   },
   "id": "96560a8f992cec0d"
  },
  {
   "cell_type": "markdown",
   "source": [
    "#### Symbolic Learning Execution"
   ],
   "metadata": {
    "collapsed": false
   },
   "id": "74c6b8904f911f5a"
  },
  {
   "cell_type": "code",
   "outputs": [],
   "source": [
    "%cd /content/SymbolicLearning_KGE/SymbolicLearning\n",
    "!python symbolic_predictions.py"
   ],
   "metadata": {
    "collapsed": false
   },
   "id": "a3535eb476338fa7"
  },
  {
   "cell_type": "markdown",
   "source": [
    "#### KGE Models Execution"
   ],
   "metadata": {
    "collapsed": false
   },
   "id": "18c717cc5117d3ca"
  },
  {
   "cell_type": "code",
   "outputs": [],
   "source": [
    "!python /content/SymbolicLearning_KGE/KGEmbedding/kge.py --dataset_path \"/content/SymbolicLearning_KGE/KG/OriginalKG/LungCancer.tsv\" --output_dir \"/content/SymbolicLearning_KGE/KGEmbedding/OriginalKG\" --results_path \"/content/SymbolicLearning_KGE/KGEmbedding/OriginalKG/\" --models TransH"
   ],
   "metadata": {
    "collapsed": false
   },
   "id": "b94de0cae7167d17"
  },
  {
   "cell_type": "markdown",
   "source": [
    "#### Perform Link Prediction (to predict the missing link, i.e., tail or head entity)"
   ],
   "metadata": {
    "collapsed": false
   },
   "id": "3b425aa9e47ad15a"
  },
  {
   "cell_type": "code",
   "outputs": [],
   "source": [
    "!python /content/SymbolicLearning_KGE/KGEmbedding/link_prediction.py --results \"/content/SymbolicLearning_KGE/KGEmbedding/OriginalKG/\" --model_name \"TransH\" --head \"3561_Patient\" --relation \"hasRelapse_Progression\""
   ],
   "metadata": {
    "collapsed": false
   },
   "id": "71de7bb767b61a58"
  },
  {
   "cell_type": "code",
   "outputs": [],
   "source": [
    "import pandas as pd\n",
    "import json\n",
    "pred_result_path = \"/content/SymbolicLearning_KGE/KGEmbedding/OriginalKG/TransH/prediction_result.csv\"\n",
    "pred = pd.read_csv(pred_result_path)\n",
    "\n",
    "# Display the prediction result, i.e., top-5\n",
    "pred.head(5)"
   ],
   "metadata": {
    "collapsed": false
   },
   "id": "dae3bf88c8931da6"
  },
  {
   "cell_type": "markdown",
   "source": [
    "#### Impact of Symbolic Learning over KGE Model Evaluation"
   ],
   "metadata": {
    "collapsed": false
   },
   "id": "faa47ebbffcfa640"
  },
  {
   "cell_type": "code",
   "outputs": [],
   "source": [
    "def generate_dataframe(model_name, file_path):\n",
    "    with open(file_path, 'r') as file:\n",
    "        data = json.load(file)\n",
    "\n",
    "    hits_at_10 = data['metrics']['tail']['realistic']['hits_at_10']\n",
    "    mrr = data['metrics']['tail']['realistic']['inverse_harmonic_mean_rank']\n",
    "\n",
    "    df = pd.DataFrame({\n",
    "        'Benchmark': [kg_name],\n",
    "        'Hits@10': [hits_at_10],\n",
    "        'MRR': [mrr]\n",
    "    })\n",
    "    return df\n",
    "\n",
    "model_files = [\n",
    "    ('OriginalKG', '/content/SymbolicLearning_KGE/KGEmbedding/OriginalKG/TransH/results.json'),\n",
    "    ('EnrichedKG', '/content/SymbolicLearning_KGE/KGEmbedding/EnrichedKG/TransH/results.json'),\n",
    "    ('TransformedKG', '/content/SymbolicLearning_KGE/KGEmbedding/TransformedKG/TransH/results.json')\n",
    "]\n",
    "\n",
    "dfs = []\n",
    "for kg_name, file_path in model_files:\n",
    "    df = generate_dataframe(kg_name, file_path)\n",
    "    dfs.append(df)\n",
    "\n",
    "# Concatenate all DataFrames into one\n",
    "final_df = pd.concat(dfs, ignore_index=True)\n",
    "print(final_df)"
   ],
   "metadata": {
    "collapsed": false
   },
   "id": "66f26457922d98ee"
  }
 ],
 "metadata": {
  "kernelspec": {
   "display_name": "Python 3",
   "language": "python",
   "name": "python3"
  },
  "language_info": {
   "codemirror_mode": {
    "name": "ipython",
    "version": 2
   },
   "file_extension": ".py",
   "mimetype": "text/x-python",
   "name": "python",
   "nbconvert_exporter": "python",
   "pygments_lexer": "ipython2",
   "version": "2.7.6"
  }
 },
 "nbformat": 4,
 "nbformat_minor": 5
}
