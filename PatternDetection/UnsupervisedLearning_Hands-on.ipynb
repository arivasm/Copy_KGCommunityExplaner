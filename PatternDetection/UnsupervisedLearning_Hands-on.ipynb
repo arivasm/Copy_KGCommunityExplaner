{
 "cells": [
  {
   "cell_type": "markdown",
   "id": "87d2910c",
   "metadata": {},
   "source": [
    "# **Empowering Healthcare with Symbolic Learning and Knowledge Graph Embeddings**"
   ]
  },
  {
   "cell_type": "markdown",
   "id": "5da15c67",
   "metadata": {},
   "source": [
    "![Desing Pattern](https://github.com/SDM-TIB/HyAI/assets/25593410/42cf771d-b82d-4097-b0f7-0ceb3581b171)"
   ]
  },
  {
   "cell_type": "markdown",
   "id": "0ebdc7fe",
   "metadata": {},
   "source": [
    "## **Pattern Detection, Analysis and Explanation over Lung Cancer Knowledge Graph**\n",
    "\n",
    ">> **Pattern Detection. Unsupervised learning**\n",
    "*   Learned embeddings of the entities in the Knowledge Graph\n",
    "*   Apply community detection Algorithms: SemEP, KMeans\n",
    "*   Compute the quality of the communities generated\n",
    "*   Generate Radar-plots \n"
   ]
  },
  {
   "cell_type": "markdown",
   "id": "0e5a1d19",
   "metadata": {},
   "source": [
    "Git clone"
   ]
  },
  {
   "cell_type": "code",
   "execution_count": null,
   "id": "877fc76a",
   "metadata": {},
   "outputs": [],
   "source": [
    "!git clone https://github.com/SDM-TIB/SymbolicLearning_KGE.git\n",
    "%cd SymbolicLearning_KGE/PatternDetection"
   ]
  },
  {
   "cell_type": "markdown",
   "id": "3c8b6386",
   "metadata": {},
   "source": [
    "Install rdflib"
   ]
  },
  {
   "cell_type": "code",
   "execution_count": null,
   "id": "19278eda",
   "metadata": {},
   "outputs": [],
   "source": [
    "!pip install rdflib"
   ]
  },
  {
   "cell_type": "code",
   "execution_count": null,
   "id": "15629c2f",
   "metadata": {},
   "outputs": [],
   "source": [
    "import ComputeCommunities as SemCD\n",
    "import EvaluationMetric\n",
    "import StatisticKG"
   ]
  },
  {
   "cell_type": "markdown",
   "id": "1669a90b",
   "metadata": {},
   "source": [
    "**Clean the build**"
   ]
  },
  {
   "cell_type": "code",
   "execution_count": 1,
   "id": "6a470f0b",
   "metadata": {},
   "outputs": [
    {
     "name": "stdout",
     "output_type": "stream",
     "text": [
      "rm -rf ../semEP-node *.o *.dSYM ../*.dSYM *~\n"
     ]
    },
    {
     "name": "stderr",
     "output_type": "stream",
     "text": [
      "process_begin: CreateProcess(NULL, rm -rf ../semEP-node *.o *.dSYM ../*.dSYM *~, ...) failed.\n",
      "make (e=2): The system cannot find the file specified.\n",
      "\n",
      "make: *** [Makefile:31: clean] Error 2\n"
     ]
    }
   ],
   "source": [
    "!(cd src && make clean)"
   ]
  },
  {
   "cell_type": "code",
   "execution_count": 1,
   "id": "55a10d3b",
   "metadata": {},
   "outputs": [
    {
     "name": "stdout",
     "output_type": "stream",
     "text": [
      "\" **** Cleaning all in `pwd`  **** \"\n",
      "(cd src/ ; C:/ProgramData/chocolatey/lib/make/tools/install/bin/make.exe clean)\n"
     ]
    },
    {
     "name": "stderr",
     "output_type": "stream",
     "text": [
      "process_begin: CreateProcess(NULL, (cd src/ ; C:/ProgramData/chocolatey/lib/make/tools/install/bin/make.exe clean), ...) failed.\n",
      "make (e=2): The system cannot find the file specified.\n",
      "\n",
      "make: *** [Makefile:12: clean] Error 2\n"
     ]
    }
   ],
   "source": [
    "!make clean"
   ]
  },
  {
   "cell_type": "markdown",
   "id": "14745c88",
   "metadata": {},
   "source": [
    "**Build the project**"
   ]
  },
  {
   "cell_type": "code",
   "execution_count": null,
   "id": "d7b43c07",
   "metadata": {},
   "outputs": [],
   "source": [
    "!make"
   ]
  },
  {
   "cell_type": "markdown",
   "id": "f6fe973e",
   "metadata": {},
   "source": [
    "**Statistics of Lung Cancer Knowledge Graph** "
   ]
  },
  {
   "cell_type": "code",
   "execution_count": null,
   "id": "42210416",
   "metadata": {},
   "outputs": [],
   "source": [
    "kg_name = 'TransformedKG'\n",
    "StatisticKG.plot_statistics(kg_name)"
   ]
  },
  {
   "cell_type": "markdown",
   "id": "19bdffb2",
   "metadata": {},
   "source": [
    "## Run the semEP-node"
   ]
  },
  {
   "cell_type": "markdown",
   "id": "5b202b53",
   "metadata": {},
   "source": [
    "**Parameter input**"
   ]
  },
  {
   "cell_type": "code",
   "execution_count": null,
   "id": "05742733",
   "metadata": {},
   "outputs": [],
   "source": [
    "model_list = ['TransH', 'RotatE']\n",
    "threshold = [35, 36, 37, 64, 65]\n",
    "kg_name = 'TransformedKG'\n",
    "target_predicate = 'hasRelapse_Progression'"
   ]
  },
  {
   "cell_type": "code",
   "execution_count": null,
   "id": "59c2fe7e",
   "metadata": {
    "scrolled": true
   },
   "outputs": [],
   "source": [
    "SemCD.run(kg_name=kg_name, target_predicate=target_predicate,\n",
    "          model_list=model_list, threshold=threshold)"
   ]
  },
  {
   "cell_type": "markdown",
   "id": "6fc18a9e",
   "metadata": {},
   "source": [
    "## Quality of the generated communities "
   ]
  },
  {
   "cell_type": "markdown",
   "id": "b08a9dfb",
   "metadata": {},
   "source": [
    "* Conductance (**InvC**): measures relatedness of entities in a community, and how different they are to entities outside the community.\n",
    "* Performance (**P**): sums up the number of intra-community relationships, plus the number of non-existent relationships between communities.\n",
    "* Total Cut (**InvTC**): sums up all similarities among entities in different communities.\n",
    "* Modularity (**M**): measures the strength of the division of a graph into communities by comparing the density of connections inside communities to density of connections between different communities.\n",
    "* Coverage (**Co**): compares the fraction of intra-community similarities between entities to the sum of all similarities between entities."
   ]
  },
  {
   "cell_type": "markdown",
   "id": "670fc9ad",
   "metadata": {},
   "source": [
    "Moving to clusteringMeasures folder "
   ]
  },
  {
   "cell_type": "code",
   "execution_count": null,
   "id": "1d146026",
   "metadata": {},
   "outputs": [],
   "source": [
    "%cd clusteringMeasures"
   ]
  },
  {
   "cell_type": "markdown",
   "id": "788d49e3",
   "metadata": {},
   "source": [
    "**Clean the build**"
   ]
  },
  {
   "cell_type": "code",
   "execution_count": null,
   "id": "70cd2f31",
   "metadata": {},
   "outputs": [],
   "source": [
    "!make clean"
   ]
  },
  {
   "cell_type": "markdown",
   "id": "b4461c33",
   "metadata": {},
   "source": [
    "**Build the project**"
   ]
  },
  {
   "cell_type": "code",
   "execution_count": null,
   "id": "f74f9607",
   "metadata": {},
   "outputs": [],
   "source": [
    "!make"
   ]
  },
  {
   "cell_type": "markdown",
   "id": "52e915a8",
   "metadata": {},
   "source": [
    "**Compute Metrices**"
   ]
  },
  {
   "cell_type": "code",
   "execution_count": null,
   "id": "0d27eb2e",
   "metadata": {},
   "outputs": [],
   "source": [
    "import ComputeMetrices\n",
    "ComputeMetrices.run(model_list, threshold)"
   ]
  },
  {
   "cell_type": "markdown",
   "id": "23603e07",
   "metadata": {},
   "source": [
    "**Generate Radar Plot**"
   ]
  },
  {
   "cell_type": "code",
   "execution_count": null,
   "id": "b508580a",
   "metadata": {},
   "outputs": [],
   "source": [
    "%cd ../\n",
    "EvaluationMetric.GenerateRadarPlot(model_list, threshold)"
   ]
  },
  {
   "cell_type": "markdown",
   "id": "26f403f3",
   "metadata": {},
   "source": [
    "# Analysis and Explanation over Lung Cancer Knowledge Graph"
   ]
  },
  {
   "cell_type": "markdown",
   "id": "3a4fb93b",
   "metadata": {},
   "source": [
    ">> **Pattern Analysis and Explanation**\n",
    "*   Visualize PCA Projection to 2D of the detected cummunities\n",
    "*   Selecting a target predicate to analyze\n",
    "*   Distribution of Relapse by Community\n"
   ]
  },
  {
   "cell_type": "code",
   "execution_count": null,
   "id": "a5f617e1",
   "metadata": {},
   "outputs": [],
   "source": [
    "%%capture\n",
    "%cd ../PatternAnalysisExplanation\n",
    "!pip install PyMuPDF\n",
    "import PatternAnalysis\n",
    "import pandas as pd"
   ]
  },
  {
   "cell_type": "markdown",
   "id": "bf90e586",
   "metadata": {},
   "source": [
    "**Visualize PCA Projection to 2D of the detected cummunities**"
   ]
  },
  {
   "cell_type": "code",
   "execution_count": null,
   "id": "4587be6a",
   "metadata": {},
   "outputs": [],
   "source": [
    "PatternAnalysis.PCA_projection(kg_name, model_list[0], threshold[1])\n",
    "PatternAnalysis.PCA_projection(kg_name, model_list[1], threshold[3])"
   ]
  },
  {
   "cell_type": "markdown",
   "id": "a6b15c04",
   "metadata": {},
   "source": [
    "**Targeting the clusters with the '*target_predicate*' selected**"
   ]
  },
  {
   "cell_type": "code",
   "execution_count": null,
   "id": "788e99e5",
   "metadata": {},
   "outputs": [],
   "source": [
    "target_cls = PatternAnalysis.target_cluster(kg_name, model_list[1], target_predicate, 'SemEP', threshold[3])\n",
    "display(target_cls.head(), target_cls.shape)"
   ]
  },
  {
   "cell_type": "markdown",
   "id": "6d0e496c",
   "metadata": {},
   "source": [
    "**Compute the amount of patients for each the target value (column Relapse) and community**"
   ]
  },
  {
   "cell_type": "code",
   "execution_count": null,
   "id": "b25dfb82",
   "metadata": {},
   "outputs": [],
   "source": [
    "df = target_cls[['Relapse', 'Community']]\n",
    "q = df.groupby(['Relapse', 'Community']).size().reset_index(name='count_values')\n",
    "df_reset = q.reset_index(drop=True)\n",
    "df_reset"
   ]
  },
  {
   "cell_type": "markdown",
   "id": "7cf4914e",
   "metadata": {},
   "source": [
    "**Normalized Clinical Records** "
   ]
  },
  {
   "cell_type": "code",
   "execution_count": null,
   "id": "c6e0a3f4",
   "metadata": {},
   "outputs": [],
   "source": [
    "# Group by 'Relapse' and sum 'count_values'\n",
    "result = df_reset.groupby('Relapse')['count_values'].sum().reset_index()\n",
    "\n",
    "a = df_reset.loc[df_reset.Relapse=='No relapse'].copy()\n",
    "b = df_reset.loc[df_reset.Relapse=='Relapse'].copy()\n",
    "c = df_reset.loc[df_reset.Relapse=='UnKnown'].copy()\n",
    "a['count_values'] = a['count_values']/result[result['Relapse'] == 'No relapse']['count_values'].values[0]\n",
    "b['count_values'] = b['count_values']/result[result['Relapse'] == 'Relapse']['count_values'].values[0]\n",
    "c['count_values'] = c['count_values']/result[result['Relapse'] == 'UnKnown']['count_values'].values[0]\n",
    "\n",
    "df_reset = pd.concat([a, b, c])\n",
    "df_reset"
   ]
  },
  {
   "cell_type": "markdown",
   "id": "404d38af",
   "metadata": {},
   "source": [
    "## **Visualization**"
   ]
  },
  {
   "cell_type": "code",
   "execution_count": null,
   "id": "bdb72ed9",
   "metadata": {},
   "outputs": [],
   "source": [
    "PatternAnalysis.catplot(df_reset, model_list[1])"
   ]
  }
 ],
 "metadata": {
  "kernelspec": {
   "display_name": "Python 3 (ipykernel)",
   "language": "python",
   "name": "python3"
  },
  "language_info": {
   "codemirror_mode": {
    "name": "ipython",
    "version": 3
   },
   "file_extension": ".py",
   "mimetype": "text/x-python",
   "name": "python",
   "nbconvert_exporter": "python",
   "pygments_lexer": "ipython3",
   "version": "3.11.4"
  }
 },
 "nbformat": 4,
 "nbformat_minor": 5
}
